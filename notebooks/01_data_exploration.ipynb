{
 "cells": [
  {
   "cell_type": "code",
   "execution_count": 1,
   "id": "0a4e84c4",
   "metadata": {},
   "outputs": [],
   "source": [
    "import pandas as pd\n",
    "\n",
    "def read_pubmed_file(file_path):\n",
    "    articles = []\n",
    "    with open(file_path, 'r', encoding='utf-8') as f:\n",
    "        article = []\n",
    "        for line in f:\n",
    "            line = line.strip()\n",
    "            if line.startswith(\"###\"):\n",
    "                if article:\n",
    "                    articles.append(article)\n",
    "                    article = []\n",
    "            else:\n",
    "                if line:\n",
    "                    label, text = line.split(\"\\t\", 1)\n",
    "                    article.append({\"label\": label, \"text\": text})\n",
    "        if article:\n",
    "            articles.append(article)\n",
    "    return articles\n",
    "\n",
    "train_articles = read_pubmed_file(\"../data/PubMed_200k_RCT/train.txt\")\n",
    "dev_articles = read_pubmed_file(\"../data/PubMed_200k_RCT/dev.txt\")\n",
    "test_articles = read_pubmed_file(\"../data/PubMed_200k_RCT/test.txt\")\n",
    "\n"
   ]
  },
  {
   "cell_type": "code",
   "execution_count": null,
   "id": "cb1d4bbf",
   "metadata": {},
   "outputs": [
    {
     "name": "stdout",
     "output_type": "stream",
     "text": [
      "Nombre d'articles train: 190654\n",
      "Nombre d'articles dev: 2500\n",
      "Nombre d'articles test: 2500\n",
      "Nombre total de phrases dans train: 2211861\n"
     ]
    }
   ],
   "source": [
    "\n",
    "print(f\"Nombre d'articles train: {len(train_articles)}\")\n",
    "print(f\"Nombre d'articles dev: {len(dev_articles)}\")\n",
    "print(f\"Nombre d'articles test: {len(test_articles)}\")\n",
    "\n",
    "# Compter le nombre total de phrases dans train\n",
    "num_sentences = sum(len(article) for article in train_articles)\n",
    "print(f\"Nombre total de phrases dans train: {num_sentences}\")\n"
   ]
  },
  {
   "cell_type": "code",
   "execution_count": null,
   "id": "d2f3e7e3",
   "metadata": {},
   "outputs": [
    {
     "name": "stdout",
     "output_type": "stream",
     "text": [
      "Counter({'RESULTS': 766271, 'METHODS': 722586, 'CONCLUSIONS': 339714, 'BACKGROUND': 196689, 'OBJECTIVE': 186601})\n"
     ]
    }
   ],
   "source": [
    "\n",
    "from collections import Counter\n",
    "\n",
    "label_counts = Counter()\n",
    "for article in train_articles:\n",
    "    for sentence in article:\n",
    "        label_counts[sentence['label']] += 1\n",
    "\n",
    "print(label_counts)"
   ]
  },
  {
   "cell_type": "code",
   "execution_count": 8,
   "id": "fe925571",
   "metadata": {},
   "outputs": [
    {
     "data": {
      "image/png": "[encoded data removed]",
      "text/plain": [
       "<Figure size 640x480 with 1 Axes>"
      ]
     },
     "metadata": {},
     "output_type": "display_data"
    }
   ],
   "source": [
    "import matplotlib.pyplot as plt\n",
    "\n",
    "plt.bar(label_counts.keys(), label_counts.values(), color='skyblue')\n",
    "plt.title(\"Distribution des labels dans train\")\n",
    "plt.ylabel(\"Nombre de phrases\")\n",
    "plt.show()\n"
   ]
  },
  {
   "cell_type": "code",
   "execution_count": 5,
   "id": "d7c08c68",
   "metadata": {},
   "outputs": [
    {
     "name": "stdout",
     "output_type": "stream",
     "text": [
      "BACKGROUND: The emergence of HIV as a chronic condition means that people living with HIV are required to take more responsibility for the self-management of their condition , including making physical , emotional and social adjustments .\n",
      "\n",
      "BACKGROUND: This paper describes the design and evaluation of Positive Outlook , an online program aiming to enhance the self-management skills of gay men living with HIV .\n",
      "\n",
      "METHODS: This study is designed as a randomised controlled trial in which men living with HIV in Australia will be assigned to either an intervention group or usual care control group .\n",
      "\n",
      "METHODS: The intervention group will participate in the online group program ` Positive Outlook ' .\n",
      "\n",
      "METHODS: The program is based on self-efficacy theory and uses a self-management approach to enhance skills , confidence and abilities to manage the psychosocial issues associated with HIV in daily life .\n",
      "\n",
      "METHODS: Participants will access the program for a minimum of 90 minutes per week over seven weeks .\n",
      "\n",
      "METHODS: Primary outcomes are domain specific self-efficacy , HIV related quality of life , and outcomes of health education .\n",
      "\n",
      "METHODS: Secondary outcomes include : depression , anxiety and stress ; general health and quality of life ; adjustment to HIV ; and social support .\n",
      "\n",
      "METHODS: Data collection will take place at baseline , completion of the intervention ( or eight weeks post randomisation ) and at 12 week follow-up .\n",
      "\n",
      "CONCLUSIONS: Results of the Positive Outlook study will provide information regarding the effectiveness of online group programs improving health related outcomes for men living with HIV .\n",
      "\n",
      "BACKGROUND: ACTRN12612000642886 .\n",
      "\n"
     ]
    }
   ],
   "source": [
    "# Afficher le premier article complet\n",
    "for sentence in train_articles[0]:\n",
    "    print(f\"{sentence['label']}: {sentence['text']}\\n\")\n"
   ]
  },
  {
   "cell_type": "code",
   "execution_count": 9,
   "id": "579ef392",
   "metadata": {},
   "outputs": [
    {
     "name": "stdout",
     "output_type": "stream",
     "text": [
      "BACKGROUND:\n",
      "The emergence of HIV as a chronic condition means that people living with HIV are required to take more responsibility for the self-management of their condition , including making physical , emotional and social adjustments . This paper describes the design and evaluation of Positive Outlook , an online program aiming to enhance the self-management skills of gay men living with HIV . ACTRN12612000642886 .\n",
      "\n",
      "METHODS:\n",
      "This study is designed as a randomised controlled trial in which men living with HIV in Australia will be assigned to either an intervention group or usual care control group . The intervention group will participate in the online group program ` Positive Outlook ' . The program is based on self-efficacy theory and uses a self-management approach to enhance skills , confidence and abilities to manage the psychosocial issues associated with HIV in daily life . Participants will access the program for a minimum of 90 minutes per week over seven weeks . Primary outcomes are domain specific self-efficacy , HIV related quality of life , and outcomes of health education . Secondary outcomes include : depression , anxiety and stress ; general health and quality of life ; adjustment to HIV ; and social support . Data collection will take place at baseline , completion of the intervention ( or eight weeks post randomisation ) and at 12 week follow-up .\n",
      "\n",
      "CONCLUSIONS:\n",
      "Results of the Positive Outlook study will provide information regarding the effectiveness of online group programs improving health related outcomes for men living with HIV .\n",
      "\n"
     ]
    }
   ],
   "source": [
    "sections = {}\n",
    "for sentence in train_articles[0]:\n",
    "    sections.setdefault(sentence['label'], []).append(sentence['text'])\n",
    "\n",
    "for label, texts in sections.items():\n",
    "    print(f\"{label}:\\n{' '.join(texts)}\\n\")\n"
   ]
  }
 ],
 "metadata": {
  "kernelspec": {
   "display_name": ".venv",
   "language": "python",
   "name": "python3"
  },
  "language_info": {
   "codemirror_mode": {
    "name": "ipython",
    "version": 3
   },
   "file_extension": ".py",
   "mimetype": "text/x-python",
   "name": "python",
   "nbconvert_exporter": "python",
   "pygments_lexer": "ipython3",
   "version": "3.12.2"
  }
 },
 "nbformat": 4,
 "nbformat_minor": 5
}
